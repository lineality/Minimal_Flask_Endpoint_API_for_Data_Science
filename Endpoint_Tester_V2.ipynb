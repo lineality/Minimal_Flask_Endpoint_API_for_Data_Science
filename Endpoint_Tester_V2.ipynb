{
  "nbformat": 4,
  "nbformat_minor": 0,
  "metadata": {
    "colab": {
      "name": "Endpoint_Tester_V2.ipynb",
      "provenance": []
    },
    "kernelspec": {
      "name": "python3",
      "display_name": "Python 3"
    }
  },
  "cells": [
    {
      "cell_type": "markdown",
      "metadata": {
        "id": "GOkMsbtqd46E",
        "colab_type": "text"
      },
      "source": [
        "\n",
        "This is an endpoint tester that can be run from any browser."
      ]
    },
    {
      "cell_type": "code",
      "metadata": {
        "id": "uP9wKU3Yd226",
        "colab_type": "code",
        "colab": {}
      },
      "source": [
        "# import libraries\n",
        "import requests\n",
        "import json"
      ],
      "execution_count": 1,
      "outputs": []
    },
    {
      "cell_type": "markdown",
      "metadata": {
        "id": "I-MII4ICemSU",
        "colab_type": "text"
      },
      "source": [
        "# Online"
      ]
    },
    {
      "cell_type": "code",
      "metadata": {
        "id": "ltgz0wU7eA85",
        "colab_type": "code",
        "colab": {
          "base_uri": "https://localhost:8080/",
          "height": 51
        },
        "outputId": "f67f27f7-95df-4ddc-c5d4-418613d6f031"
      },
      "source": [
        "url = \"https://endpoint-template.herokuapp.com/post_endpoint_1\"  # test local api\n",
        "# this assumes that the agreed upon json key is `input` \n",
        "\n",
        "# input form: {'input_1': \"x\", 'input_2': \"y\"}\n",
        "val = {'input_1': \"tom\", 'input_2': \"betty\"} # '' is used within a route like a dictionary key\n",
        "\n",
        "r_success = requests.post(url, data=json.dumps(val))\n",
        "\n",
        "print(f\"request responded: {r_success}.\\nthe content of the response was {r_success.json()}\")"
      ],
      "execution_count": 2,
      "outputs": [
        {
          "output_type": "stream",
          "text": [
            "request responded: <Response [200]>.\n",
            "the content of the response was {'answer': 'tombetty'}\n"
          ],
          "name": "stdout"
        }
      ]
    }
  ]
}